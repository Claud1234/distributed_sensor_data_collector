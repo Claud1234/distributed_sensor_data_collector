{
 "cells": [
  {
   "cell_type": "code",
   "execution_count": 10,
   "id": "2ca457a6",
   "metadata": {},
   "outputs": [],
   "source": [
    "import rosbag"
   ]
  },
  {
   "cell_type": "code",
   "execution_count": 11,
   "id": "9b91a30a",
   "metadata": {},
   "outputs": [],
   "source": [
    "import pandas as pd"
   ]
  },
  {
   "cell_type": "code",
   "execution_count": 12,
   "id": "8200bf13",
   "metadata": {},
   "outputs": [],
   "source": [
    "df_lidar0_to_cam0 = pd.read_csv('lidar0-to-cam0-seq-sync.csv')"
   ]
  },
  {
   "cell_type": "code",
   "execution_count": 13,
   "id": "c913764a",
   "metadata": {},
   "outputs": [],
   "source": [
    "df_rad0_to_lid0 = pd.read_csv('radar0-to-lidar0-seq-sync.csv')"
   ]
  },
  {
   "cell_type": "code",
   "execution_count": 14,
   "id": "59be75ba",
   "metadata": {},
   "outputs": [
    {
     "data": {
      "text/html": [
       "<div>\n",
       "<style scoped>\n",
       "    .dataframe tbody tr th:only-of-type {\n",
       "        vertical-align: middle;\n",
       "    }\n",
       "\n",
       "    .dataframe tbody tr th {\n",
       "        vertical-align: top;\n",
       "    }\n",
       "\n",
       "    .dataframe thead th {\n",
       "        text-align: right;\n",
       "    }\n",
       "</style>\n",
       "<table border=\"1\" class=\"dataframe\">\n",
       "  <thead>\n",
       "    <tr style=\"text-align: right;\">\n",
       "      <th></th>\n",
       "      <th>lid0</th>\n",
       "      <th>cam0</th>\n",
       "    </tr>\n",
       "  </thead>\n",
       "  <tbody>\n",
       "    <tr>\n",
       "      <th>0</th>\n",
       "      <td>0</td>\n",
       "      <td>0</td>\n",
       "    </tr>\n",
       "    <tr>\n",
       "      <th>1</th>\n",
       "      <td>1</td>\n",
       "      <td>1</td>\n",
       "    </tr>\n",
       "    <tr>\n",
       "      <th>2</th>\n",
       "      <td>2</td>\n",
       "      <td>3</td>\n",
       "    </tr>\n",
       "    <tr>\n",
       "      <th>3</th>\n",
       "      <td>3</td>\n",
       "      <td>4</td>\n",
       "    </tr>\n",
       "    <tr>\n",
       "      <th>4</th>\n",
       "      <td>4</td>\n",
       "      <td>5</td>\n",
       "    </tr>\n",
       "    <tr>\n",
       "      <th>...</th>\n",
       "      <td>...</td>\n",
       "      <td>...</td>\n",
       "    </tr>\n",
       "    <tr>\n",
       "      <th>1439</th>\n",
       "      <td>1439</td>\n",
       "      <td>1902</td>\n",
       "    </tr>\n",
       "    <tr>\n",
       "      <th>1440</th>\n",
       "      <td>1440</td>\n",
       "      <td>1904</td>\n",
       "    </tr>\n",
       "    <tr>\n",
       "      <th>1441</th>\n",
       "      <td>1441</td>\n",
       "      <td>1905</td>\n",
       "    </tr>\n",
       "    <tr>\n",
       "      <th>1442</th>\n",
       "      <td>1442</td>\n",
       "      <td>1906</td>\n",
       "    </tr>\n",
       "    <tr>\n",
       "      <th>1443</th>\n",
       "      <td>1443</td>\n",
       "      <td>1908</td>\n",
       "    </tr>\n",
       "  </tbody>\n",
       "</table>\n",
       "<p>1444 rows × 2 columns</p>\n",
       "</div>"
      ],
      "text/plain": [
       "      lid0  cam0\n",
       "0        0     0\n",
       "1        1     1\n",
       "2        2     3\n",
       "3        3     4\n",
       "4        4     5\n",
       "...    ...   ...\n",
       "1439  1439  1902\n",
       "1440  1440  1904\n",
       "1441  1441  1905\n",
       "1442  1442  1906\n",
       "1443  1443  1908\n",
       "\n",
       "[1444 rows x 2 columns]"
      ]
     },
     "execution_count": 14,
     "metadata": {},
     "output_type": "execute_result"
    }
   ],
   "source": [
    "df_lidar0_to_cam0"
   ]
  },
  {
   "cell_type": "code",
   "execution_count": 15,
   "id": "12fc623f",
   "metadata": {},
   "outputs": [
    {
     "data": {
      "text/html": [
       "<div>\n",
       "<style scoped>\n",
       "    .dataframe tbody tr th:only-of-type {\n",
       "        vertical-align: middle;\n",
       "    }\n",
       "\n",
       "    .dataframe tbody tr th {\n",
       "        vertical-align: top;\n",
       "    }\n",
       "\n",
       "    .dataframe thead th {\n",
       "        text-align: right;\n",
       "    }\n",
       "</style>\n",
       "<table border=\"1\" class=\"dataframe\">\n",
       "  <thead>\n",
       "    <tr style=\"text-align: right;\">\n",
       "      <th></th>\n",
       "      <th>rad0</th>\n",
       "      <th>lid0</th>\n",
       "    </tr>\n",
       "  </thead>\n",
       "  <tbody>\n",
       "    <tr>\n",
       "      <th>0</th>\n",
       "      <td>0</td>\n",
       "      <td>1</td>\n",
       "    </tr>\n",
       "    <tr>\n",
       "      <th>1</th>\n",
       "      <td>1</td>\n",
       "      <td>4</td>\n",
       "    </tr>\n",
       "    <tr>\n",
       "      <th>2</th>\n",
       "      <td>2</td>\n",
       "      <td>10</td>\n",
       "    </tr>\n",
       "    <tr>\n",
       "      <th>3</th>\n",
       "      <td>3</td>\n",
       "      <td>19</td>\n",
       "    </tr>\n",
       "    <tr>\n",
       "      <th>4</th>\n",
       "      <td>4</td>\n",
       "      <td>28</td>\n",
       "    </tr>\n",
       "    <tr>\n",
       "      <th>...</th>\n",
       "      <td>...</td>\n",
       "      <td>...</td>\n",
       "    </tr>\n",
       "    <tr>\n",
       "      <th>345</th>\n",
       "      <td>345</td>\n",
       "      <td>1420</td>\n",
       "    </tr>\n",
       "    <tr>\n",
       "      <th>346</th>\n",
       "      <td>346</td>\n",
       "      <td>1423</td>\n",
       "    </tr>\n",
       "    <tr>\n",
       "      <th>347</th>\n",
       "      <td>347</td>\n",
       "      <td>1429</td>\n",
       "    </tr>\n",
       "    <tr>\n",
       "      <th>348</th>\n",
       "      <td>348</td>\n",
       "      <td>1432</td>\n",
       "    </tr>\n",
       "    <tr>\n",
       "      <th>349</th>\n",
       "      <td>349</td>\n",
       "      <td>1435</td>\n",
       "    </tr>\n",
       "  </tbody>\n",
       "</table>\n",
       "<p>350 rows × 2 columns</p>\n",
       "</div>"
      ],
      "text/plain": [
       "     rad0  lid0\n",
       "0       0     1\n",
       "1       1     4\n",
       "2       2    10\n",
       "3       3    19\n",
       "4       4    28\n",
       "..    ...   ...\n",
       "345   345  1420\n",
       "346   346  1423\n",
       "347   347  1429\n",
       "348   348  1432\n",
       "349   349  1435\n",
       "\n",
       "[350 rows x 2 columns]"
      ]
     },
     "execution_count": 15,
     "metadata": {},
     "output_type": "execute_result"
    }
   ],
   "source": [
    "df_rad0_to_lid0"
   ]
  },
  {
   "cell_type": "code",
   "execution_count": 22,
   "id": "e69af6c3",
   "metadata": {},
   "outputs": [
    {
     "data": {
      "text/html": [
       "<div>\n",
       "<style scoped>\n",
       "    .dataframe tbody tr th:only-of-type {\n",
       "        vertical-align: middle;\n",
       "    }\n",
       "\n",
       "    .dataframe tbody tr th {\n",
       "        vertical-align: top;\n",
       "    }\n",
       "\n",
       "    .dataframe thead th {\n",
       "        text-align: right;\n",
       "    }\n",
       "</style>\n",
       "<table border=\"1\" class=\"dataframe\">\n",
       "  <thead>\n",
       "    <tr style=\"text-align: right;\">\n",
       "      <th></th>\n",
       "      <th>lid0</th>\n",
       "      <th>rad0</th>\n",
       "    </tr>\n",
       "    <tr>\n",
       "      <th>cam0</th>\n",
       "      <th></th>\n",
       "      <th></th>\n",
       "    </tr>\n",
       "  </thead>\n",
       "  <tbody>\n",
       "    <tr>\n",
       "      <th>1</th>\n",
       "      <td>1</td>\n",
       "      <td>0</td>\n",
       "    </tr>\n",
       "    <tr>\n",
       "      <th>5</th>\n",
       "      <td>4</td>\n",
       "      <td>1</td>\n",
       "    </tr>\n",
       "    <tr>\n",
       "      <th>14</th>\n",
       "      <td>10</td>\n",
       "      <td>2</td>\n",
       "    </tr>\n",
       "    <tr>\n",
       "      <th>26</th>\n",
       "      <td>19</td>\n",
       "      <td>3</td>\n",
       "    </tr>\n",
       "    <tr>\n",
       "      <th>38</th>\n",
       "      <td>28</td>\n",
       "      <td>4</td>\n",
       "    </tr>\n",
       "    <tr>\n",
       "      <th>...</th>\n",
       "      <td>...</td>\n",
       "      <td>...</td>\n",
       "    </tr>\n",
       "    <tr>\n",
       "      <th>1877</th>\n",
       "      <td>1420</td>\n",
       "      <td>345</td>\n",
       "    </tr>\n",
       "    <tr>\n",
       "      <th>1882</th>\n",
       "      <td>1423</td>\n",
       "      <td>346</td>\n",
       "    </tr>\n",
       "    <tr>\n",
       "      <th>1889</th>\n",
       "      <td>1429</td>\n",
       "      <td>347</td>\n",
       "    </tr>\n",
       "    <tr>\n",
       "      <th>1893</th>\n",
       "      <td>1432</td>\n",
       "      <td>348</td>\n",
       "    </tr>\n",
       "    <tr>\n",
       "      <th>1897</th>\n",
       "      <td>1435</td>\n",
       "      <td>349</td>\n",
       "    </tr>\n",
       "  </tbody>\n",
       "</table>\n",
       "<p>350 rows × 2 columns</p>\n",
       "</div>"
      ],
      "text/plain": [
       "      lid0  rad0\n",
       "cam0            \n",
       "1        1     0\n",
       "5        4     1\n",
       "14      10     2\n",
       "26      19     3\n",
       "38      28     4\n",
       "...    ...   ...\n",
       "1877  1420   345\n",
       "1882  1423   346\n",
       "1889  1429   347\n",
       "1893  1432   348\n",
       "1897  1435   349\n",
       "\n",
       "[350 rows x 2 columns]"
      ]
     },
     "execution_count": 22,
     "metadata": {},
     "output_type": "execute_result"
    }
   ],
   "source": [
    "df_rad0_cam =\\\n",
    "    df_rad0_to_lid0.set_index('lid0').join(df_cam0_to_lid0.set_index('lid0')).reset_index().set_index('cam0')\n",
    "df_rad0_cam"
   ]
  },
  {
   "cell_type": "code",
   "execution_count": 23,
   "id": "16d8e49c",
   "metadata": {},
   "outputs": [
    {
     "data": {
      "text/plain": [
       "array([7])"
      ]
     },
     "execution_count": 23,
     "metadata": {},
     "output_type": "execute_result"
    }
   ],
   "source": [
    "df_cam0_to_lid0.set_index('lid0').loc[[5]].values.reshape(-1)"
   ]
  },
  {
   "cell_type": "code",
   "execution_count": 24,
   "id": "cefd7b7d",
   "metadata": {},
   "outputs": [],
   "source": [
    "import os"
   ]
  },
  {
   "cell_type": "code",
   "execution_count": 25,
   "id": "34bfd567",
   "metadata": {},
   "outputs": [],
   "source": [
    "base_dir = 'data'"
   ]
  },
  {
   "cell_type": "code",
   "execution_count": 26,
   "id": "734eb765",
   "metadata": {},
   "outputs": [],
   "source": [
    "lidar_dir = os.path.join(base_dir, 'lidar')\n",
    "cam_dir = os.path.join(base_dir, 'camera')\n",
    "radar1_dir = os.path.join(base_dir, 'radar1')\n",
    "radar2_dir = os.path.join(base_dir, 'radar2')"
   ]
  },
  {
   "cell_type": "code",
   "execution_count": 27,
   "id": "957270e4",
   "metadata": {},
   "outputs": [],
   "source": [
    "for d in [base_dir, lidar_dir, cam_dir, radar1_dir, radar2_dir ]:\n",
    "    if not os.path.exists(d):\n",
    "        print(f'mkdir {d}')\n",
    "        os.mkdir(d)\n",
    "        "
   ]
  },
  {
   "cell_type": "code",
   "execution_count": 28,
   "id": "927dd250",
   "metadata": {},
   "outputs": [],
   "source": [
    "from velodyne_decoder_pylib import ScanDecoder\n",
    "import velodyne_decoder as vd"
   ]
  },
  {
   "cell_type": "code",
   "execution_count": 29,
   "id": "bc5b1664",
   "metadata": {},
   "outputs": [],
   "source": [
    "import pickle"
   ]
  },
  {
   "cell_type": "code",
   "execution_count": 30,
   "id": "5e19f3d2",
   "metadata": {},
   "outputs": [],
   "source": [
    "import cv2"
   ]
  },
  {
   "cell_type": "code",
   "execution_count": 31,
   "id": "122b1a41",
   "metadata": {},
   "outputs": [],
   "source": [
    "import numpy as np"
   ]
  },
  {
   "cell_type": "code",
   "execution_count": 32,
   "id": "219cc503",
   "metadata": {},
   "outputs": [
    {
     "name": "stdout",
     "output_type": "stream",
     "text": [
      "Dumping cam seq 0 lidar seq 0 -> data/lidar/seq_0_lidar.pkl\n"
     ]
    },
    {
     "ename": "AttributeError",
     "evalue": "'_tf2_msgs__TFMessage' object has no attribute 'header'",
     "output_type": "error",
     "traceback": [
      "\u001b[0;31m---------------------------------------------------------------------------\u001b[0m",
      "\u001b[0;31mAttributeError\u001b[0m                            Traceback (most recent call last)",
      "Cell \u001b[0;32mIn[32], line 13\u001b[0m\n\u001b[1;32m     11\u001b[0m \u001b[38;5;66;03m# Read rosbag topics\u001b[39;00m\n\u001b[1;32m     12\u001b[0m \u001b[38;5;28;01mfor\u001b[39;00m topic, msg, t \u001b[38;5;129;01min\u001b[39;00m _bag\u001b[38;5;241m.\u001b[39mread_messages():\n\u001b[0;32m---> 13\u001b[0m     seq \u001b[38;5;241m=\u001b[39m \u001b[38;5;28mint\u001b[39m(\u001b[43mmsg\u001b[49m\u001b[38;5;241;43m.\u001b[39;49m\u001b[43mheader\u001b[49m\u001b[38;5;241m.\u001b[39mseq)\n\u001b[1;32m     15\u001b[0m     \u001b[38;5;66;03m# Sensor is a camera (with an assumption the cam0 sequence is unique)\u001b[39;00m\n\u001b[1;32m     16\u001b[0m     \u001b[38;5;28;01mif\u001b[39;00m (topic \u001b[38;5;241m==\u001b[39m cam_topic) \u001b[38;5;129;01mand\u001b[39;00m (seq \u001b[38;5;129;01min\u001b[39;00m df_cam0_to_lid0\u001b[38;5;241m.\u001b[39mcam0\u001b[38;5;241m.\u001b[39mvalues):\n",
      "\u001b[0;31mAttributeError\u001b[0m: '_tf2_msgs__TFMessage' object has no attribute 'header'"
     ]
    }
   ],
   "source": [
    "cam_topic = '/image_color_rect/compressed'\n",
    "lidar_topic = '/velodyne_packets'\n",
    "radar1_topic = '/ti_mmwave/radar_scan_pcl_1'\n",
    "\n",
    "config = vd.Config(model='VLP-32C')\n",
    "decoder = ScanDecoder(config)\n",
    "\n",
    "with rosbag.Bag('/home/devel/Data/lidar_cam_calib_db_project.bag',mode='r') as _bag:\n",
    "    msg_count = _bag.get_message_count()\n",
    "    \n",
    "    # Read rosbag topics\n",
    "    for topic, msg, t in _bag.read_messages():\n",
    "        seq = int(msg.header.seq)\n",
    "        \n",
    "        # Sensor is a camera (with an assumption the cam0 sequence is unique)\n",
    "        if (topic == cam_topic) and (seq in df_cam0_to_lid0.cam0.values):\n",
    "            cam_seq = seq\n",
    "            fn_seq = f'seq_{seq}'\n",
    "            rgb = f'{fn_seq}_rgb.png'    \n",
    "            rgb_path = os.path.join(cam_dir, rgb)    \n",
    "            #print(f'Dumping cam0 seq {seq} -> {rgb_path}')\n",
    "            rgb_array = cv2.imdecode(np.frombuffer(msg.data, np.uint8), -1)\n",
    "            cv2.imwrite(rgb_path, rgb_array)\n",
    "\n",
    "        # Sensor is a radar\n",
    "        elif topic == radar1_topic and (seq in df_rad0_cam.rad0.values):\n",
    "            format_str = '<ffffff'\n",
    "            ba = bytearray(point_data[field.offset:field.offset + 4])\n",
    "            data = round(struct.unpack(format_str, ba)[0], 2)\n",
    "\n",
    "        # Decode the /velodyne_packets.\n",
    "        elif (topic == lidar_topic) and (seq in df_cam0_to_lid0.lid0.values):\n",
    "            points = decoder.decode_message(msg, as_pcl_structs=False)\n",
    "            \n",
    "            cam_seq = df_cam0_to_lid0.set_index('lid0').loc[[seq]].values.reshape(-1)\n",
    "            \n",
    "            for sq in cam_seq:\n",
    "                fn_seq = f'seq_{sq}'\n",
    "                lidar = f'{fn_seq}_lidar.pkl'\n",
    "                lidar_path = os.path.join(lidar_dir, lidar)\n",
    "                print(f'Dumping cam seq {sq} lidar seq {seq} -> {lidar_path}')\n",
    "                with open(lidar_path, 'wb') as f:\n",
    "                    pickle.dump(points, f)\n",
    "                \n",
    "    "
   ]
  },
  {
   "cell_type": "code",
   "execution_count": 45,
   "id": "f613cdad",
   "metadata": {},
   "outputs": [],
   "source": [
    "from matplotlib import pylab as plt"
   ]
  },
  {
   "cell_type": "code",
   "execution_count": 51,
   "id": "d9dbd54b",
   "metadata": {},
   "outputs": [
    {
     "data": {
      "text/plain": [
       "<matplotlib.collections.PathCollection at 0x7f7160403370>"
      ]
     },
     "execution_count": 51,
     "metadata": {},
     "output_type": "execute_result"
    },
    {
     "data": {
      "image/png": "[encoded data removed]",
      "text/plain": [
       "<Figure size 640x480 with 1 Axes>"
      ]
     },
     "metadata": {},
     "output_type": "display_data"
    }
   ],
   "source": [
    "plt.scatter(*points[:,:3].T)"
   ]
  },
  {
   "cell_type": "code",
   "execution_count": null,
   "id": "8497dcc6",
   "metadata": {},
   "outputs": [],
   "source": []
  }
 ],
 "metadata": {
  "kernelspec": {
   "display_name": "Python 3 (ipykernel)",
   "language": "python",
   "name": "python3"
  },
  "language_info": {
   "codemirror_mode": {
    "name": "ipython",
    "version": 3
   },
   "file_extension": ".py",
   "mimetype": "text/x-python",
   "name": "python",
   "nbconvert_exporter": "python",
   "pygments_lexer": "ipython3",
   "version": "3.8.10"
  }
 },
 "nbformat": 4,
 "nbformat_minor": 5
}
