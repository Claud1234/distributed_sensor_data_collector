{
 "cells": [
  {
   "cell_type": "code",
   "execution_count": 4,
   "id": "286338cf",
   "metadata": {},
   "outputs": [],
   "source": [
    "from sensor_msgs.msg import PointField"
   ]
  },
  {
   "cell_type": "code",
   "execution_count": 7,
   "id": "9cc72a0d",
   "metadata": {},
   "outputs": [],
   "source": [
    "import numpy as np"
   ]
  },
  {
   "cell_type": "code",
   "execution_count": 8,
   "id": "1a4f976a",
   "metadata": {},
   "outputs": [],
   "source": [
    "import rosbag"
   ]
  },
  {
   "cell_type": "code",
   "execution_count": 39,
   "id": "a8324bef",
   "metadata": {},
   "outputs": [],
   "source": [
    "import struct"
   ]
  },
  {
   "cell_type": "code",
   "execution_count": 9,
   "id": "698f34be",
   "metadata": {},
   "outputs": [],
   "source": [
    "ros_pf_to_npdtype =\\\n",
    "             {PointField.FLOAT32: 'f4',\n",
    "              PointField.FLOAT64: 'f8',\n",
    "              PointField.INT16:   'i2',\n",
    "              PointField.INT32:   'i4',\n",
    "              PointField.INT8:    'i1',\n",
    "              PointField.UINT16:  'u2',\n",
    "              PointField.UINT32:  'u4',\n",
    "              PointField.UINT8:   'u1'}"
   ]
  },
  {
   "cell_type": "code",
   "execution_count": 29,
   "id": "92eb34fe",
   "metadata": {},
   "outputs": [],
   "source": [
    "radar_dtype = np.dtype(\n",
    "    [('x', '<f4'), ('y', '<f4'), ('z', '<f4'), ('p0', '<f4'),\n",
    "     ('intensity', '<f4'), ('velocity', '<f4'), ('range', '<f4'), ('p1', '<f4')]\n",
    ")"
   ]
  },
  {
   "cell_type": "code",
   "execution_count": 32,
   "id": "5c4e9c83",
   "metadata": {},
   "outputs": [
    {
     "name": "stdout",
     "output_type": "stream",
     "text": [
      "[('x', '<f4'), ('y', '<f4'), ('z', '<f4'), ('p0', '<f4'), ('intensity', '<f4'), ('velocity', '<f4'), ('range', '<f4'), ('p1', '<f4')]\n"
     ]
    }
   ],
   "source": [
    "print(radar_dtype)"
   ]
  },
  {
   "cell_type": "code",
   "execution_count": 34,
   "id": "2be59310",
   "metadata": {},
   "outputs": [
    {
     "name": "stdout",
     "output_type": "stream",
     "text": [
      "32\n"
     ]
    }
   ],
   "source": [
    "print(radar_dtype.itemsize)"
   ]
  },
  {
   "cell_type": "code",
   "execution_count": 10,
   "id": "22942933",
   "metadata": {},
   "outputs": [
    {
     "data": {
      "text/plain": [
       "{7: 'f4', 8: 'f8', 3: 'i2', 5: 'i4', 1: 'i1', 4: 'u2', 6: 'u4', 2: 'u1'}"
      ]
     },
     "execution_count": 10,
     "metadata": {},
     "output_type": "execute_result"
    }
   ],
   "source": [
    "ros_pf_to_npdtype"
   ]
  },
  {
   "cell_type": "code",
   "execution_count": 22,
   "id": "d76ed25e",
   "metadata": {},
   "outputs": [],
   "source": [
    "def get_dtype(fields):\n",
    "    be = '>' if msg.is_bigendian else '<'\n",
    "    \n",
    "    return np.dtype([(x.name, be + ros_pf_to_npdtype[x.datatype])\n",
    "                    for x in fields])"
   ]
  },
  {
   "cell_type": "code",
   "execution_count": 35,
   "id": "afda0bdc",
   "metadata": {},
   "outputs": [],
   "source": [
    "def ros_to_numpy(msg):\n",
    "        '''Returns the array of structs according to numpy datatype\n",
    "        @param msg: <sensor_msgs.PointCloud2>\n",
    "        '''\n",
    "        return np.frombuffer(msg.data, radar_dtype)"
   ]
  },
  {
   "cell_type": "code",
   "execution_count": 43,
   "id": "eed6011d",
   "metadata": {
    "scrolled": false
   },
   "outputs": [
    {
     "ename": "AttributeError",
     "evalue": "'_sensor_msgs__PointCloud2' object has no attribute 'timestamp'",
     "output_type": "error",
     "traceback": [
      "\u001b[0;31m---------------------------------------------------------------------------\u001b[0m",
      "\u001b[0;31mAttributeError\u001b[0m                            Traceback (most recent call last)",
      "Cell \u001b[0;32mIn[43], line 11\u001b[0m\n\u001b[1;32m      7\u001b[0m \u001b[38;5;28;01mfor\u001b[39;00m topic, msg, t \u001b[38;5;129;01min\u001b[39;00m _bag\u001b[38;5;241m.\u001b[39mread_messages():\n\u001b[1;32m      8\u001b[0m \n\u001b[1;32m      9\u001b[0m     \u001b[38;5;66;03m# Sensor is a radar\u001b[39;00m\n\u001b[1;32m     10\u001b[0m     \u001b[38;5;28;01mif\u001b[39;00m topic \u001b[38;5;241m==\u001b[39m radar1_topic:\n\u001b[0;32m---> 11\u001b[0m         \u001b[38;5;28mprint\u001b[39m(\u001b[43mmsg\u001b[49m\u001b[38;5;241;43m.\u001b[39;49m\u001b[43mtimestamp\u001b[49m\u001b[38;5;241m.\u001b[39mto_nsec())\n\u001b[1;32m     12\u001b[0m         \u001b[38;5;28mprint\u001b[39m(msg\u001b[38;5;241m.\u001b[39mdata)\n\u001b[1;32m     13\u001b[0m         \u001b[38;5;28mprint\u001b[39m(ros_to_numpy(msg))\n",
      "\u001b[0;31mAttributeError\u001b[0m: '_sensor_msgs__PointCloud2' object has no attribute 'timestamp'"
     ]
    }
   ],
   "source": [
    "radar1_topic = '/ti_mmwave/radar_scan_pcl_1'\n",
    "\n",
    "with rosbag.Bag('/home/devel/Data/lidar_cam_calib_db_project.bag',mode='r') as _bag:\n",
    "    msg_count = _bag.get_message_count()\n",
    "    \n",
    "    # Read rosbag topics\n",
    "    for topic, msg, t in _bag.read_messages():\n",
    "\n",
    "        # Sensor is a radar\n",
    "        if topic == radar1_topic:\n",
    "            print(msg.timestamp.to_nsec())\n",
    "            print(msg.data)\n",
    "            print(ros_to_numpy(msg))\n",
    "#           format_str = '<ffffff'\n",
    "#           ba = bytearray(point_data[field.offset:field.offset + 4])\n",
    "#           data = round(struct.unpack(format_str, ba)[0], 2)\n",
    "            \n",
    "            # Claude's code\n",
    "            i = 0\n",
    "            points = []\n",
    "            for _ in range(msg.width * msg.height):\n",
    "                point_data = msg.data[i:(i + msg.point_step - 1)]\n",
    "                i += msg.point_step\n",
    "                point = dict()\n",
    "                for field in msg.fields:\n",
    "                    format_str = '<f'\n",
    "                    ba = bytearray(\n",
    "                        point_data[field.offset:field.offset + 4])\n",
    "                    data = struct.unpack(format_str, ba)\n",
    "                    point[field.name] = data\n",
    "                points.append(point)\n",
    "            print()\n",
    "            print(points)\n",
    "            break"
   ]
  },
  {
   "cell_type": "code",
   "execution_count": null,
   "id": "da89073a",
   "metadata": {},
   "outputs": [],
   "source": []
  }
 ],
 "metadata": {
  "kernelspec": {
   "display_name": "Python 3 (ipykernel)",
   "language": "python",
   "name": "python3"
  },
  "language_info": {
   "codemirror_mode": {
    "name": "ipython",
    "version": 3
   },
   "file_extension": ".py",
   "mimetype": "text/x-python",
   "name": "python",
   "nbconvert_exporter": "python",
   "pygments_lexer": "ipython3",
   "version": "3.8.10"
  }
 },
 "nbformat": 4,
 "nbformat_minor": 5
}
