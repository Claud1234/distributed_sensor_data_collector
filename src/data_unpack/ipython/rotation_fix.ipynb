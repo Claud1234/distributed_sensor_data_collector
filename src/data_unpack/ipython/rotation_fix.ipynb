{
 "cells": [
  {
   "cell_type": "code",
   "execution_count": 8,
   "id": "daf3370b",
   "metadata": {},
   "outputs": [],
   "source": [
    "with open('/home/devel/workspaces/finest_mobility/src/data_unpack/config/', 'rb') as _fd:\n",
    "    s = _fd.read()"
   ]
  },
  {
   "cell_type": "code",
   "execution_count": 9,
   "id": "a0cf8867",
   "metadata": {},
   "outputs": [
    {
     "name": "stdout",
     "output_type": "stream",
     "text": [
      "P2:  1359.40979 0. 917.3976 0. 0. 1523.71069 546.10493 0. 0. 0. 1. 0.\n",
      "R0_rect:  1. 0. 0. 0. 1. 0. 0. 0. 1.\n",
      "Tr_velo_to_cam: -0.0361133 -0.99835228 0.04459329 0.05 -0.02594949 -0.04367056 -0.99870892 -0.013 0.99901074 -0.03722384 -0.02432964 -0.075\n"
     ]
    }
   ],
   "source": [
    "print(s.decode('utf8'))"
   ]
  },
  {
   "cell_type": "code",
   "execution_count": 3,
   "id": "ab9e20d9",
   "metadata": {},
   "outputs": [],
   "source": [
    "import pickle"
   ]
  },
  {
   "cell_type": "code",
   "execution_count": 6,
   "id": "2c0862d9",
   "metadata": {},
   "outputs": [],
   "source": [
    "import numpy as np"
   ]
  },
  {
   "cell_type": "code",
   "execution_count": 7,
   "id": "84a92f85",
   "metadata": {},
   "outputs": [],
   "source": [
    "tr_velo_cam = np.asarray([\n",
    "    [-3.6113295780354937e-02, -9.9835227648545777e-01,  4.4593294385862348e-02,  0.07],\n",
    "    [-2.5949489152197913e-02, -4.3670556292665141e-02, -9.9870891981889720e-01, -0.25],\n",
    "    [ 9.9901073762028203e-01, -3.7223843828824987e-02, -2.4329643852442184e-02, -0.4]])"
   ]
  },
  {
   "cell_type": "code",
   "execution_count": 32,
   "id": "da62bac9",
   "metadata": {},
   "outputs": [],
   "source": [
    "tr_radar_cam = np.asarray([\n",
    "    [ -0.0361133, -0.99835228,  0.04459329,  0.05 ],\n",
    "    [-0.02594949, -0.04367056, -0.99870892, -0.013],\n",
    "    [ 0.99901074, -0.03722384, -0.02432964, -0.075]])"
   ]
  },
  {
   "cell_type": "code",
   "execution_count": 28,
   "id": "e236cc24",
   "metadata": {},
   "outputs": [],
   "source": [
    "tr_radar_cam = Rotation.from_euler('xyz',(.0,.0,.0), degrees=True).as_matrix()"
   ]
  },
  {
   "cell_type": "code",
   "execution_count": 30,
   "id": "ecf39625",
   "metadata": {},
   "outputs": [
    {
     "data": {
      "text/plain": [
       "array([[1., 0., 0.],\n",
       "       [0., 1., 0.],\n",
       "       [0., 0., 1.]])"
      ]
     },
     "execution_count": 30,
     "metadata": {},
     "output_type": "execute_result"
    }
   ],
   "source": [
    "np.linalg.inv(tr_radar_cam)"
   ]
  },
  {
   "cell_type": "code",
   "execution_count": 11,
   "id": "a593e780",
   "metadata": {},
   "outputs": [],
   "source": [
    "from scipy.spatial.transform import Rotation"
   ]
  },
  {
   "cell_type": "code",
   "execution_count": 26,
   "id": "f5a34015",
   "metadata": {},
   "outputs": [
    {
     "data": {
      "text/plain": [
       "array([-123.16878121,  -87.45123857, -144.30057167])"
      ]
     },
     "execution_count": 26,
     "metadata": {},
     "output_type": "execute_result"
    }
   ],
   "source": [
    "np.rad2deg(Rotation.from_matrix(tr_velo_cam[:,:-1]).as_euler('xyz'))"
   ]
  },
  {
   "cell_type": "code",
   "execution_count": 24,
   "id": "0f249095",
   "metadata": {},
   "outputs": [
    {
     "data": {
      "text/plain": [
       "array([[-0.0361133 , -0.35984193,  0.93231412],\n",
       "       [ 0.02594949,  0.93227044,  0.36083023],\n",
       "       [-0.99901074,  0.03722384, -0.02432964]])"
      ]
     },
     "execution_count": 24,
     "metadata": {},
     "output_type": "execute_result"
    }
   ],
   "source": [
    "Rotation.from_euler('xyz', 0-np.rad2deg(Rotation.from_matrix(tr_velo_cam[:,:-1]).as_euler('xyz')),\n",
    "                    degrees=True).as_matrix()"
   ]
  },
  {
   "cell_type": "code",
   "execution_count": 18,
   "id": "c48d491c",
   "metadata": {},
   "outputs": [
    {
     "data": {
      "text/plain": [
       "array([-91.39551197,  -2.55585512, -92.07165117])"
      ]
     },
     "execution_count": 18,
     "metadata": {},
     "output_type": "execute_result"
    }
   ],
   "source": [
    "np.rad2deg(Rotation.from_matrix(np.linalg.inv(np.asmatrix(tr_velo_cam[:,:-1]))).as_euler('xyz'))"
   ]
  },
  {
   "cell_type": "code",
   "execution_count": 16,
   "id": "c1354e92",
   "metadata": {},
   "outputs": [
    {
     "data": {
      "text/plain": [
       "array([-123.16876802,  -87.45123872, -144.30058456])"
      ]
     },
     "execution_count": 16,
     "metadata": {},
     "output_type": "execute_result"
    }
   ],
   "source": [
    "np.rad2deg(Rotation.from_matrix(tr_radar_cam[:,:-1]).as_euler('xyz'))"
   ]
  },
  {
   "cell_type": "code",
   "execution_count": 34,
   "id": "33953baa",
   "metadata": {},
   "outputs": [
    {
     "data": {
      "text/plain": [
       "(array([ 0.05 , -0.013, -0.075]), array([ 0.07, -0.25, -0.4 ]))"
      ]
     },
     "execution_count": 34,
     "metadata": {},
     "output_type": "execute_result"
    }
   ],
   "source": [
    "tr_radar_cam[:,-1], tr_velo_cam[:,-1]"
   ]
  },
  {
   "cell_type": "code",
   "execution_count": 35,
   "id": "a66fdecc",
   "metadata": {},
   "outputs": [],
   "source": [
    "tr_velo_radar = np.asarray([\n",
    "    [-0.0361133 , -0.35984193,  0.93231412,  0.2  ],\n",
    "    [ 0.02594949,  0.93227044,  0.36083023, -0.237],\n",
    "    [-0.99901074,  0.03722384, -0.02432964, -0.325]])"
   ]
  },
  {
   "cell_type": "code",
   "execution_count": 36,
   "id": "8a8de20c",
   "metadata": {},
   "outputs": [],
   "source": [
    "import sys"
   ]
  },
  {
   "cell_type": "code",
   "execution_count": 37,
   "id": "127e802e",
   "metadata": {},
   "outputs": [],
   "source": [
    "sys.path.append('/home/devel/workspaces/finest_mobility/src/data_unpack/src')"
   ]
  },
  {
   "cell_type": "code",
   "execution_count": 38,
   "id": "601b56d3",
   "metadata": {},
   "outputs": [],
   "source": [
    "from lidar_camera_projection import read_calib_file"
   ]
  },
  {
   "cell_type": "code",
   "execution_count": 39,
   "id": "4706d8d1",
   "metadata": {},
   "outputs": [
    {
     "data": {
      "text/plain": [
       "{'P2': array([1.35940979e+03, 0.00000000e+00, 9.17397600e+02, 0.00000000e+00,\n",
       "        0.00000000e+00, 1.52371069e+03, 5.46104930e+02, 0.00000000e+00,\n",
       "        0.00000000e+00, 0.00000000e+00, 1.00000000e+00, 0.00000000e+00]),\n",
       " 'R0_rect': array([1., 0., 0., 0., 1., 0., 0., 0., 1.]),\n",
       " 'Tr_velo_to_cam': array([-0.0361133 , -0.99835228,  0.04459329,  0.07      , -0.02594949,\n",
       "        -0.04367056, -0.99870892, -0.25      ,  0.99901074, -0.03722384,\n",
       "        -0.02432964, -0.4       ])}"
      ]
     },
     "execution_count": 39,
     "metadata": {},
     "output_type": "execute_result"
    }
   ],
   "source": [
    "read_calib_file('/home/devel/workspaces/finest_mobility/src/data_unpack/config/lidar_cam_calib.txt')"
   ]
  },
  {
   "cell_type": "code",
   "execution_count": null,
   "id": "5a3539b7",
   "metadata": {},
   "outputs": [],
   "source": []
  }
 ],
 "metadata": {
  "kernelspec": {
   "display_name": "Python 3 (ipykernel)",
   "language": "python",
   "name": "python3"
  },
  "language_info": {
   "codemirror_mode": {
    "name": "ipython",
    "version": 3
   },
   "file_extension": ".py",
   "mimetype": "text/x-python",
   "name": "python",
   "nbconvert_exporter": "python",
   "pygments_lexer": "ipython3",
   "version": "3.8.10"
  }
 },
 "nbformat": 4,
 "nbformat_minor": 5
}
